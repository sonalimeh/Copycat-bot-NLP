{
  "nbformat": 4,
  "nbformat_minor": 0,
  "metadata": {
    "colab": {
      "name": "NLP Project.ipynb",
      "provenance": [],
      "collapsed_sections": [],
      "machine_shape": "hm"
    },
    "kernelspec": {
      "name": "python3",
      "display_name": "Python 3"
    },
    "accelerator": "GPU"
  },
  "cells": [
    {
      "cell_type": "code",
      "metadata": {
        "colab_type": "code",
        "id": "se0Fg6we5zLz",
        "colab": {
          "base_uri": "https://localhost:8080/",
          "height": 52
        },
        "outputId": "0b62b2ea-b16c-4b87-eefa-665b0d3ce479"
      },
      "source": [
        "import nltk\n",
        "nltk.download('brown')\n",
        "from nltk.corpus import brown\n",
        "from gensim.models import Word2Vec\n",
        "import multiprocessing\n",
        "import numpy as np\n",
        "import random\n",
        "import sys\n",
        "import tensorflow as tf\n",
        "from tensorflow.keras.layers import  Dense, Dropout, Activation, LSTM, Bidirectional\n",
        "from tensorflow.keras import Model, Sequential \n",
        "import numpy as np\n",
        "from __future__ import print_function\n",
        "from tensorflow.keras.callbacks import LambdaCallback, ModelCheckpoint, EarlyStopping"
      ],
      "execution_count": null,
      "outputs": [
        {
          "output_type": "stream",
          "text": [
            "[nltk_data] Downloading package brown to /root/nltk_data...\n",
            "[nltk_data]   Package brown is already up-to-date!\n"
          ],
          "name": "stdout"
        }
      ]
    },
    {
      "cell_type": "code",
      "metadata": {
        "colab_type": "code",
        "id": "AMHH5zdo5yoG",
        "colab": {
          "base_uri": "https://localhost:8080/",
          "height": 34
        },
        "outputId": "0962f7e9-6063-4c62-8ceb-a814252b5d71"
      },
      "source": [
        "z='/content/drive/My Drive/combine.txt'\n",
        "corpus=[]\n",
        "with open(z,'r',encoding='utf-8') as file:\n",
        "      # reading each line     \n",
        "    for line in file:         \n",
        "        for word in line.split():           \n",
        "            corpus.append(word)\n",
        "print(corpus[4])\n",
        "emb_dim=300\n",
        "wv= Word2Vec(corpus, size=emb_dim, sg=1, window=5, min_count=5, negative=15, iter=10, workers=multiprocessing.cpu_count())"
      ],
      "execution_count": null,
      "outputs": [
        {
          "output_type": "stream",
          "text": [
            "आपका\n"
          ],
          "name": "stdout"
        }
      ]
    },
    {
      "cell_type": "code",
      "metadata": {
        "id": "LXM9UknNat_D",
        "colab_type": "code",
        "colab": {
          "base_uri": "https://localhost:8080/",
          "height": 34
        },
        "outputId": "fbbcf035-a5ee-4393-f126-fa67384a4880"
      },
      "source": [
        "from google.colab import drive\n",
        "drive.mount('/content/drive')"
      ],
      "execution_count": null,
      "outputs": [
        {
          "output_type": "stream",
          "text": [
            "Drive already mounted at /content/drive; to attempt to forcibly remount, call drive.mount(\"/content/drive\", force_remount=True).\n"
          ],
          "name": "stdout"
        }
      ]
    },
    {
      "cell_type": "code",
      "metadata": {
        "id": "fDZnpmEXHwTU",
        "colab_type": "code",
        "colab": {}
      },
      "source": [
        "text_in_words=corpus\n"
      ],
      "execution_count": null,
      "outputs": []
    },
    {
      "cell_type": "code",
      "metadata": {
        "id": "JNBbGigffP5-",
        "colab_type": "code",
        "colab": {
          "base_uri": "https://localhost:8080/",
          "height": 70
        },
        "outputId": "cb40ac79-3d8a-4825-f1ed-25e0f5c1ce5d"
      },
      "source": [
        "MIN_WORD_FREQUENCY=20\n",
        "word_freq = {}\n",
        "for word in text_in_words:\n",
        "    word_freq[word] = word_freq.get(word, 0) + 1\n",
        "\n",
        "ignored_words = set()\n",
        "for k, v in word_freq.items():\n",
        "    if word_freq[k] < MIN_WORD_FREQUENCY:\n",
        "        ignored_words.add(k)\n",
        "\n",
        "words = set(text_in_words)\n",
        "print('Unique words before ignoring:', len(words))\n",
        "print('Ignoring words with frequency <', MIN_WORD_FREQUENCY)\n",
        "words = sorted(set(words) - ignored_words)\n",
        "print('Unique words after ignoring:', len(words))\n",
        "\n",
        "word_indices = dict((c, i) for i, c in enumerate(words))\n",
        "indices_word = dict((i, c) for i, c in enumerate(words))"
      ],
      "execution_count": null,
      "outputs": [
        {
          "output_type": "stream",
          "text": [
            "Unique words before ignoring: 58568\n",
            "Ignoring words with frequency < 20\n",
            "Unique words after ignoring: 5812\n"
          ],
          "name": "stdout"
        }
      ]
    },
    {
      "cell_type": "code",
      "metadata": {
        "id": "g5aFuTQkTbBH",
        "colab_type": "code",
        "colab": {
          "base_uri": "https://localhost:8080/",
          "height": 52
        },
        "outputId": "3bdbe604-bd1a-4829-b0ab-7966776a9435"
      },
      "source": [
        "SEQUENCE_LEN=30\n",
        "STEP = 1\n",
        "sentences = []\n",
        "next_words = []\n",
        "ignored = 0\n",
        "for i in range(0, len(text_in_words) - SEQUENCE_LEN, STEP):\n",
        "    # Only add sequences where no word is in ignored_words\n",
        "    if len(set(text_in_words[i: i+SEQUENCE_LEN+1]).intersection(ignored_words)) == 0:\n",
        "        sentences.append(text_in_words[i: i + SEQUENCE_LEN])\n",
        "        next_words.append(text_in_words[i + SEQUENCE_LEN])\n",
        "    else:\n",
        "        ignored = ignored+1\n",
        "print('Ignored sequences:', ignored)\n",
        "print('Remaining sequences:', len(sentences))"
      ],
      "execution_count": null,
      "outputs": [
        {
          "output_type": "stream",
          "text": [
            "Ignored sequences: 1469726\n",
            "Remaining sequences: 357619\n"
          ],
          "name": "stdout"
        }
      ]
    },
    {
      "cell_type": "code",
      "metadata": {
        "id": "0sboejpQTjnG",
        "colab_type": "code",
        "colab": {}
      },
      "source": [
        "def shuffle_and_split_training_set(sentences_original, next_original, percentage_test=2):\n",
        "    # shuffle at unison\n",
        "    print('Shuffling sentences')\n",
        "\n",
        "    tmp_sentences = []\n",
        "    tmp_next_word = []\n",
        "    for i in np.random.permutation(len(sentences_original)):\n",
        "        tmp_sentences.append(sentences_original[i])\n",
        "        tmp_next_word.append(next_original[i])\n",
        "\n",
        "    cut_index = int(len(sentences_original) * (1.-(percentage_test/100.)))\n",
        "    x_train, x_test = tmp_sentences[:cut_index], tmp_sentences[cut_index:]\n",
        "    y_train, y_test = tmp_next_word[:cut_index], tmp_next_word[cut_index:]\n",
        "\n",
        "    print(\"Size of training set = %d\" % len(x_train))\n",
        "    print(\"Size of test set = %d\" % len(y_test))\n",
        "    return (x_train, y_train), (x_test, y_test)"
      ],
      "execution_count": null,
      "outputs": []
    },
    {
      "cell_type": "code",
      "metadata": {
        "id": "UoUYyspffYM2",
        "colab_type": "code",
        "colab": {
          "base_uri": "https://localhost:8080/",
          "height": 70
        },
        "outputId": "d313ceea-8cf6-4c63-c078-64529f657d8f"
      },
      "source": [
        "(sentences, next_words), (sentences_test, next_words_test) = shuffle_and_split_training_set(sentences, next_words)"
      ],
      "execution_count": null,
      "outputs": [
        {
          "output_type": "stream",
          "text": [
            "Shuffling sentences\n",
            "Size of training set = 350466\n",
            "Size of test set = 7153\n"
          ],
          "name": "stdout"
        }
      ]
    },
    {
      "cell_type": "code",
      "metadata": {
        "id": "JtiZhURITwEv",
        "colab_type": "code",
        "colab": {}
      },
      "source": [
        "dropout=0.2\n",
        "model = Sequential()\n",
        "model.add(tf.keras.layers.Embedding(input_dim=len(words), output_dim=1024))\n",
        "model.add(Bidirectional(LSTM(128)))\n",
        "if dropout > 0:\n",
        "    model.add(Dropout(dropout))\n",
        "model.add(Dense(len(words)))\n",
        "model.add(Activation('softmax'))"
      ],
      "execution_count": null,
      "outputs": []
    },
    {
      "cell_type": "code",
      "metadata": {
        "id": "etCQ-A-oT1xI",
        "colab_type": "code",
        "colab": {}
      },
      "source": [
        "def generator(sentence_list, next_word_list, batch_size):\n",
        "    index = 0\n",
        "    while True:\n",
        "        x = np.zeros((batch_size, SEQUENCE_LEN), dtype=np.int32)\n",
        "        y = np.zeros((batch_size), dtype=np.int32)\n",
        "        for i in range(batch_size):\n",
        "            for t, w in enumerate(sentence_list[index % len(sentence_list)]):\n",
        "                x[i, t] = word_indices[w]\n",
        "            y[i] = word_indices[next_word_list[index % len(sentence_list)]]\n",
        "            index = index + 1\n",
        "        yield x, y"
      ],
      "execution_count": null,
      "outputs": []
    },
    {
      "cell_type": "code",
      "metadata": {
        "id": "iGCIn027m1eJ",
        "colab_type": "code",
        "colab": {}
      },
      "source": [
        "def on_epoch_end(epoch, logs):\n",
        "    # Function invoked at end of each epoch. Prints generated text.\n",
        "    print('\\n----- Generating text after Epoch: %d\\n' % epoch)\n",
        "    seed_index = np.random.randint(len(sentences+sentences_test))\n",
        "    seed = (sentences+sentences_test)[seed_index]\n",
        "    print(seed)\n",
        "   # seed = sent.split(' ')\n",
        "\n",
        "    for diversity in [0.3, 0.4, 0.5, 0.6, 0.7]:\n",
        "        sentence = seed\n",
        "        print('----- Diversity:' + str(diversity) + '\\n')\n",
        "        print('----- Generating with seed:\\n\"' + ' '.join(sentence) + '\"\\n')\n",
        "        print(' '.join(sentence))\n",
        "\n",
        "        for i in range(50):\n",
        "            x_pred = np.zeros((1, SEQUENCE_LEN))\n",
        "            for t, word in enumerate(sentence):\n",
        "                x_pred[0, t] = word_indices[word]\n",
        "\n",
        "            preds = model.predict(x_pred, verbose=0)[0]\n",
        "            next_index = sample(preds, diversity)\n",
        "            next_word = indices_word[next_index]\n",
        "\n",
        "            sentence = sentence[1:]\n",
        "            sentence.append(next_word)\n",
        "\n",
        "            print(\" \"+next_word,end=' ')\n",
        "    print('='*80 + '\\n')"
      ],
      "execution_count": null,
      "outputs": []
    },
    {
      "cell_type": "code",
      "metadata": {
        "id": "Ws0JSrUSP7tI",
        "colab_type": "code",
        "colab": {}
      },
      "source": [
        "def sample(preds, temperature=1.0):\n",
        "    # helper function to sample an index from a probability array\n",
        "    preds = np.asarray(preds).astype('float64')\n",
        "    preds = np.log(preds) / temperature\n",
        "    exp_preds = np.exp(preds)\n",
        "    preds = exp_preds / np.sum(exp_preds)\n",
        "    probas = np.random.multinomial(1, preds, 1)\n",
        "    return np.argmax(probas)"
      ],
      "execution_count": null,
      "outputs": []
    },
    {
      "cell_type": "code",
      "metadata": {
        "id": "5ocsYw6kT_84",
        "colab_type": "code",
        "colab": {}
      },
      "source": [
        "file_path = \"./checkpoints/LSTM_LYRICS-epoch{epoch:03d}-words%d-sequence%d-minfreq%d-\" \\\n",
        "                \"loss{loss:.4f}-accuracy{accuracy:.4f}-val_loss{val_loss:.4f}-val_acc{val_accuracy:.4f}\" % \\\n",
        "                (len(words), SEQUENCE_LEN, MIN_WORD_FREQUENCY)\n",
        "checkpoint = ModelCheckpoint(file_path, monitor='val_accuracy', save_best_only=True)\n",
        "print_callback = LambdaCallback(on_epoch_end=on_epoch_end)\n",
        "early_stopping = EarlyStopping(monitor='val_accuracy', patience=5)\n",
        "callbacks_list = [checkpoint, print_callback, early_stopping]\n",
        "\n"
      ],
      "execution_count": null,
      "outputs": []
    },
    {
      "cell_type": "markdown",
      "metadata": {
        "id": "mbQbI-NOmcY5",
        "colab_type": "text"
      },
      "source": [
        ""
      ]
    },
    {
      "cell_type": "code",
      "metadata": {
        "id": "3xYe1KJAUEIm",
        "colab_type": "code",
        "colab": {
          "base_uri": "https://localhost:8080/",
          "height": 1000
        },
        "outputId": "6202570d-6965-4785-9abf-baf43a00730b"
      },
      "source": [
        "BATCH_SIZE=32\n",
        "STEP=1\n",
        "model.compile(loss='sparse_categorical_crossentropy', optimizer=\"adam\", metrics=['accuracy'])\n",
        "examples = sys.argv[2]\n",
        "examples_file = open(examples, \"w\")\n",
        "model.fit_generator(generator(sentences, next_words, BATCH_SIZE),\n",
        "    steps_per_epoch=int(len(sentences)/BATCH_SIZE) + 1,\n",
        "    epochs=8,\n",
        "    callbacks=callbacks_list,\n",
        "    validation_data=generator(sentences_test, next_words_test, BATCH_SIZE),              \n",
        "    validation_steps=int(len(sentences_test)/BATCH_SIZE) + 1)\n",
        "model.save_weights(\"/content/drive/My Drive/model.h5\")"
      ],
      "execution_count": null,
      "outputs": [
        {
          "output_type": "stream",
          "text": [
            "Epoch 1/8\n",
            "10953/10953 [==============================] - ETA: 0s - loss: 3.9069 - accuracy: 0.4002WARNING:tensorflow:From /usr/local/lib/python3.6/dist-packages/tensorflow/python/ops/resource_variable_ops.py:1817: calling BaseResourceVariable.__init__ (from tensorflow.python.ops.resource_variable_ops) with constraint is deprecated and will be removed in a future version.\n",
            "Instructions for updating:\n",
            "If using Keras pass *_constraint arguments to layers.\n",
            "INFO:tensorflow:Assets written to: ./checkpoints/LSTM_LYRICS-epoch001-words5812-sequence30-minfreq20-loss3.9069-accuracy0.4002-val_loss3.2911-val_acc0.4651/assets\n",
            "\n",
            "----- Generating text after Epoch: 0\n",
            "\n",
            "['ये', 'आप', 'सब', 'जानते', 'हैं।', 'गरीब', 'तो', 'सोच', 'ही', 'नहीं', 'सकता', 'था', 'कि', 'उसके', 'घर', 'में', 'गैस', 'का', 'सिलेंडर', 'हो', 'सकता', 'है।', 'वो', 'तो', 'बेचारा', 'हिम्मत', 'ही', 'नहीं', 'करता', 'था।']\n",
            "----- Diversity:0.3\n",
            "\n",
            "----- Generating with seed:\n",
            "\"ये आप सब जानते हैं। गरीब तो सोच ही नहीं सकता था कि उसके घर में गैस का सिलेंडर हो सकता है। वो तो बेचारा हिम्मत ही नहीं करता था।\"\n",
            "\n",
            "ये आप सब जानते हैं। गरीब तो सोच ही नहीं सकता था कि उसके घर में गैस का सिलेंडर हो सकता है। वो तो बेचारा हिम्मत ही नहीं करता था।\n",
            " और  इसलिए  मैं  समझता  हूं  कि  आप  मुझे  बताइए  कि  नहीं  होनी  चाहिए  ...।  ये  चुनाव  है  कि  नहीं  हो  तो  वो  भी  हम  सब  भी  ही  नहीं  है।  मैं  आज  भी  भी  आया  हूं।  मैं  आपको  विश्वास  दिलाता  हूं।  मैं  चाहूंगा  कि  आप  मुझे  बताइए  तो  मोदी  सरकार  के ----- Diversity:0.4\n",
            "\n",
            "----- Generating with seed:\n",
            "\"ये आप सब जानते हैं। गरीब तो सोच ही नहीं सकता था कि उसके घर में गैस का सिलेंडर हो सकता है। वो तो बेचारा हिम्मत ही नहीं करता था।\"\n",
            "\n",
            "ये आप सब जानते हैं। गरीब तो सोच ही नहीं सकता था कि उसके घर में गैस का सिलेंडर हो सकता है। वो तो बेचारा हिम्मत ही नहीं करता था।\n",
            " ये  मैं  नहीं  मानता  हूं  कि  आप  मुझे  बताइए  कि  नहीं  नहीं  होना  चाहिए  ...।  ये  भी  तो  नहीं  है  कि  नहीं  होना  चाहिए?  ये  हम  सब  ही  लोग  हैं  तो  आज  नहीं  है,  लेकिन  ये  झूठ  फैला  रहे  थे।  ये  भी  है  तो  ये  भी  नहीं  है।  लेकिन  ये ----- Diversity:0.5\n",
            "\n",
            "----- Generating with seed:\n",
            "\"ये आप सब जानते हैं। गरीब तो सोच ही नहीं सकता था कि उसके घर में गैस का सिलेंडर हो सकता है। वो तो बेचारा हिम्मत ही नहीं करता था।\"\n",
            "\n",
            "ये आप सब जानते हैं। गरीब तो सोच ही नहीं सकता था कि उसके घर में गैस का सिलेंडर हो सकता है। वो तो बेचारा हिम्मत ही नहीं करता था।\n",
            " ये  मुझे  बताइए।  ये  तो  ही  नहीं  होता  है  कि  ये  चुनाव  है  तो  भारत  को  आता  है  तो  मेरा  मालूम  है  कि  नहीं  होनी  चाहिए  ...।  ये  भी  नहीं  है  कि  नहीं  चाहिए?  और  मैं  जरा  एक  बार  ये  जो  भी  मेरा  पूरा  करने  वाला  नहीं  हूं।  मैं  फिर ----- Diversity:0.6\n",
            "\n",
            "----- Generating with seed:\n",
            "\"ये आप सब जानते हैं। गरीब तो सोच ही नहीं सकता था कि उसके घर में गैस का सिलेंडर हो सकता है। वो तो बेचारा हिम्मत ही नहीं करता था।\"\n",
            "\n",
            "ये आप सब जानते हैं। गरीब तो सोच ही नहीं सकता था कि उसके घर में गैस का सिलेंडर हो सकता है। वो तो बेचारा हिम्मत ही नहीं करता था।\n",
            " ये  तो  तो  देश  के  लिए  नहीं  हो  तो  भी  आज  के  लिए  भी  करना  है,  वो  भी  ही  जाती  है  और  मैं  आपको  भी  याद  करता  हूं।  इसी  तरह  के  साथ  एक  इस  जीवन  में  इस  बात  को  भी  जल्दी  है  कि  जिन  दिनों  में  प्रधानमंत्री  फसल  बीमा  योजना ----- Diversity:0.7\n",
            "\n",
            "----- Generating with seed:\n",
            "\"ये आप सब जानते हैं। गरीब तो सोच ही नहीं सकता था कि उसके घर में गैस का सिलेंडर हो सकता है। वो तो बेचारा हिम्मत ही नहीं करता था।\"\n",
            "\n",
            "ये आप सब जानते हैं। गरीब तो सोच ही नहीं सकता था कि उसके घर में गैस का सिलेंडर हो सकता है। वो तो बेचारा हिम्मत ही नहीं करता था।\n",
            " जो  कभी  बिहार  को  स्वीकार  करने  का  ही  नहीं  होगा  लेकिन  हमारे  चुनाव  में  2022  तक  आपको  भी  हुआ  है,  कुछ  भी  बाहर  यहां  के  रूप  में  हो  जाएगा।  ये  आपने  बिहार  में  एक  जैसा  मैं  चाहूंगा  कि  खुद  को  आप  सब  सभी  ने  की  बात  नहीं  है  और  हम ================================================================================\n",
            "\n",
            "10953/10953 [==============================] - 650s 59ms/step - loss: 3.9069 - accuracy: 0.4002 - val_loss: 3.2911 - val_accuracy: 0.4651\n",
            "Epoch 2/8\n",
            "10953/10953 [==============================] - ETA: 0s - loss: 3.1144 - accuracy: 0.4739INFO:tensorflow:Assets written to: ./checkpoints/LSTM_LYRICS-epoch002-words5812-sequence30-minfreq20-loss3.1144-accuracy0.4739-val_loss3.1736-val_acc0.4778/assets\n",
            "\n",
            "----- Generating text after Epoch: 1\n",
            "\n",
            "['आई,', 'मैं', 'किसी', 'की', 'आलोचना', 'करने', 'के', 'लिए', 'नहीं', 'कह', 'रहा', 'हूं,', 'लेकिन', 'एक', 'सदन', 'में', 'ऐसे', 'लोग', 'आज', 'बैठे', 'हैं', 'कि', 'जिनके', 'सामने', 'अगर', 'मैं', 'खुल', 'करके', 'कुछ', 'बात']\n",
            "----- Diversity:0.3\n",
            "\n",
            "----- Generating with seed:\n",
            "\"आई, मैं किसी की आलोचना करने के लिए नहीं कह रहा हूं, लेकिन एक सदन में ऐसे लोग आज बैठे हैं कि जिनके सामने अगर मैं खुल करके कुछ बात\"\n",
            "\n",
            "आई, मैं किसी की आलोचना करने के लिए नहीं कह रहा हूं, लेकिन एक सदन में ऐसे लोग आज बैठे हैं कि जिनके सामने अगर मैं खुल करके कुछ बात\n",
            " नहीं  कर  सकते  हैं?  ये  तो  भी  ये  भी  काम  करने  के  लिए  हम  बहुत  बड़ा  रूप  से  लेकर  के  लिए  आए  हैं।  मैं  आज  आप  सब  के  लिए  एक  बात  करना  चाहता  हूं।  मैं  समझता  हूं  कि  हम  हम  सब  के  लिए  मैं  समझता  हूं  कि  हम  मुझे  बताइए ----- Diversity:0.4\n",
            "\n",
            "----- Generating with seed:\n",
            "\"आई, मैं किसी की आलोचना करने के लिए नहीं कह रहा हूं, लेकिन एक सदन में ऐसे लोग आज बैठे हैं कि जिनके सामने अगर मैं खुल करके कुछ बात\"\n",
            "\n",
            "आई, मैं किसी की आलोचना करने के लिए नहीं कह रहा हूं, लेकिन एक सदन में ऐसे लोग आज बैठे हैं कि जिनके सामने अगर मैं खुल करके कुछ बात\n",
            " करना  चाहता  हूं।  आपको  विश्वास  दिलाता  हूं।  मेरे  साथ  बोलिए,  भारत  माता  की  जय।  भारत  माता  की  जय।  भारत  माता  की  जय।  भारत  माता  की  जय।  भारत  माता  की  जय।  भारत  माता  की  जय।  मंच  पर  विराजमान  सभी  वरिष्ठ  नेता  के  लिए  मैं  देख  रहा  हूं।  मेरे  साथी  श्रीमान  श्री ----- Diversity:0.5\n",
            "\n",
            "----- Generating with seed:\n",
            "\"आई, मैं किसी की आलोचना करने के लिए नहीं कह रहा हूं, लेकिन एक सदन में ऐसे लोग आज बैठे हैं कि जिनके सामने अगर मैं खुल करके कुछ बात\"\n",
            "\n",
            "आई, मैं किसी की आलोचना करने के लिए नहीं कह रहा हूं, लेकिन एक सदन में ऐसे लोग आज बैठे हैं कि जिनके सामने अगर मैं खुल करके कुछ बात\n",
            " करना  चाहता  हूं।  भारत  के  लिए  कुछ  करना  है।  लेकिन  हम  एक  बार  भारत  के  साथ  अन्याय  करने  का  प्रयास  कर  रहे  हैं।  मुझे  खुशी  है  कि  आप  सब  को  बधाई  देता  हूं।  मैं  मानता  हूं  कि  मेरे  प्यारे  भाइयो  और  बहनो,  मैं  जरा  भी  हमारे  देश  में  अपने  नागरिक ----- Diversity:0.6\n",
            "\n",
            "----- Generating with seed:\n",
            "\"आई, मैं किसी की आलोचना करने के लिए नहीं कह रहा हूं, लेकिन एक सदन में ऐसे लोग आज बैठे हैं कि जिनके सामने अगर मैं खुल करके कुछ बात\"\n",
            "\n",
            "आई, मैं किसी की आलोचना करने के लिए नहीं कह रहा हूं, लेकिन एक सदन में ऐसे लोग आज बैठे हैं कि जिनके सामने अगर मैं खुल करके कुछ बात\n",
            " करना  चाहता  हूं।  भाइयों  बहनों।  मेरे  पास  संकल्प  को  बढ़ाना  है  तो  जब  मैं  मैं  देख  रहा  हूं  कि  मेरे  देश  के  लोगों  को  विश्वास  दिलाता  हूं।  मेरे  देश  के  लिए  मैं  आपको  विश्वास  दिलाता  हूं।  आप  मुझे  बताइए  कि  मोदी  का  चुनाव  है  कि  नहीं  होना  चाहिए?  आपने  एक ----- Diversity:0.7\n",
            "\n",
            "----- Generating with seed:\n",
            "\"आई, मैं किसी की आलोचना करने के लिए नहीं कह रहा हूं, लेकिन एक सदन में ऐसे लोग आज बैठे हैं कि जिनके सामने अगर मैं खुल करके कुछ बात\"\n",
            "\n",
            "आई, मैं किसी की आलोचना करने के लिए नहीं कह रहा हूं, लेकिन एक सदन में ऐसे लोग आज बैठे हैं कि जिनके सामने अगर मैं खुल करके कुछ बात\n",
            " है।  कुछ  लोगों  को  तो  हम  आगे  बढ़  रहे  हैं  और  हम  वो  भी  लोग  तो  भी  हम  हिंदुस्तान  के  लोगों  को  ले  जाना  चाहिए।  अगर  पूरा  भारत  के  सपने  में  भी  ऐसा  उपयोग  है।  यह  मुझे  विश्वास  है  कि  उसको  पता  होगा  कि  हम  इतने  से  ज्यादा  घर  में, ================================================================================\n",
            "\n",
            "10953/10953 [==============================] - 652s 60ms/step - loss: 3.1144 - accuracy: 0.4739 - val_loss: 3.1736 - val_accuracy: 0.4778\n",
            "Epoch 3/8\n",
            "10953/10953 [==============================] - ETA: 0s - loss: 2.8670 - accuracy: 0.4913\n",
            "----- Generating text after Epoch: 2\n",
            "\n",
            "['जब', 'जन', 'आकांक्षाओं', 'को', 'देखता', 'हूं', 'तो', 'हमारे', 'काम', 'करने', 'का', 'उत्साह', 'कई', 'गुना', 'बढ़', 'जाता', 'है।', 'इसलिए', 'मैं', 'स्पष्ट', 'कहता', 'हूं', 'कि', '2014', 'का', 'चुनाव', 'देश', 'की', 'आवश्यकताओं', 'को']\n",
            "----- Diversity:0.3\n",
            "\n",
            "----- Generating with seed:\n",
            "\"जब जन आकांक्षाओं को देखता हूं तो हमारे काम करने का उत्साह कई गुना बढ़ जाता है। इसलिए मैं स्पष्ट कहता हूं कि 2014 का चुनाव देश की आवश्यकताओं को\"\n",
            "\n",
            "जब जन आकांक्षाओं को देखता हूं तो हमारे काम करने का उत्साह कई गुना बढ़ जाता है। इसलिए मैं स्पष्ट कहता हूं कि 2014 का चुनाव देश की आवश्यकताओं को\n",
            " बधाई  देता  हूं।  मैं  आप  सब  के  लिए  आया  हूं,  और  मैं  आज  आपसे  आग्रह  करने  आया  हूं  कि  आप  मुझे  बताइए  कि  आप  लोगों  की  ताकत  है  कि  नहीं  है?  ये  चुनाव  लड़  रहे  हैं  और  ये  तो  कांग्रेस  के  लोगों  के  लिए  भी  नहीं  है।  ये  चुनाव  है ----- Diversity:0.4\n",
            "\n",
            "----- Generating with seed:\n",
            "\"जब जन आकांक्षाओं को देखता हूं तो हमारे काम करने का उत्साह कई गुना बढ़ जाता है। इसलिए मैं स्पष्ट कहता हूं कि 2014 का चुनाव देश की आवश्यकताओं को\"\n",
            "\n",
            "जब जन आकांक्षाओं को देखता हूं तो हमारे काम करने का उत्साह कई गुना बढ़ जाता है। इसलिए मैं स्पष्ट कहता हूं कि 2014 का चुनाव देश की आवश्यकताओं को\n",
            " पूरा  करने  के  लिए  तैयार  हो  और  ये  मैं  नहीं  जानता  हूं  कि  आप  मुझे  बताइए  कि  ये  चुनाव  देश  के  लिए  तैयार  हो  रहा  है।  देश  के  लिए  ये  ऐसा  नहीं  है  कि  नहीं  होना  चाहिए?  ये  चुनाव  है  कि  नहीं  है  ...?  ये  चुनाव  है  कि  नहीं  है? ----- Diversity:0.5\n",
            "\n",
            "----- Generating with seed:\n",
            "\"जब जन आकांक्षाओं को देखता हूं तो हमारे काम करने का उत्साह कई गुना बढ़ जाता है। इसलिए मैं स्पष्ट कहता हूं कि 2014 का चुनाव देश की आवश्यकताओं को\"\n",
            "\n",
            "जब जन आकांक्षाओं को देखता हूं तो हमारे काम करने का उत्साह कई गुना बढ़ जाता है। इसलिए मैं स्पष्ट कहता हूं कि 2014 का चुनाव देश की आवश्यकताओं को\n",
            " बधाई  देता  हूं।  भाइयो  बहनो।  मुझे  विश्वास  है  कि  आप  मुझे  बताइए,  ये  है  जो  मुझे  बताइए  कि  हमें  इस  बात  का  हिसाब  देने  के  लिए  तैयार  नहीं  है।  आप  मुझे  बताइए  कि  हम  सब  कह  सकते  हैं  कि  नहीं  करते  हैं  तो  ये  आतंकवाद  के  नाम  पर  बैठे  हैं ----- Diversity:0.6\n",
            "\n",
            "----- Generating with seed:\n",
            "\"जब जन आकांक्षाओं को देखता हूं तो हमारे काम करने का उत्साह कई गुना बढ़ जाता है। इसलिए मैं स्पष्ट कहता हूं कि 2014 का चुनाव देश की आवश्यकताओं को\"\n",
            "\n",
            "जब जन आकांक्षाओं को देखता हूं तो हमारे काम करने का उत्साह कई गुना बढ़ जाता है। इसलिए मैं स्पष्ट कहता हूं कि 2014 का चुनाव देश की आवश्यकताओं को\n",
            " पूरा  करने  के  लिए  प्रेरित  किया  है।  ये  आपके  साथ  मैं  देख  रहा  हूं।  मैं  आपको  वादा  करता  हूं।  क्या  मैं  समझता  हूं  कि  भाइयो-बहनो,  चुनाव  के  बाद  एक  करोड़  परिवारों  को  भी  भी  गैस  का  कनेक्शन  है,  उसको  भी  काम  करने  का  अवसर  मिला  है।  और  मैं  चाहूंगा  कि ----- Diversity:0.7\n",
            "\n",
            "----- Generating with seed:\n",
            "\"जब जन आकांक्षाओं को देखता हूं तो हमारे काम करने का उत्साह कई गुना बढ़ जाता है। इसलिए मैं स्पष्ट कहता हूं कि 2014 का चुनाव देश की आवश्यकताओं को\"\n",
            "\n",
            "जब जन आकांक्षाओं को देखता हूं तो हमारे काम करने का उत्साह कई गुना बढ़ जाता है। इसलिए मैं स्पष्ट कहता हूं कि 2014 का चुनाव देश की आवश्यकताओं को\n",
            " सशक्त  करने  का  अवसर  मिला  है।  एक  जगह  पर  मतदान  है,  आपके  बीच  ये  जारी  है।  मैं  फिर  से  बहुत-बहुत  धन्यवाद।  मेरे  प्यारे  भाइयो-बहनो,  मैं  चाहूंगा  कि  लोकतंत्र  के  लिए  से  एक  नया  अवसर  दीजिए।  ये  इतिहास  का  ये  मेरा  सौभाग्य  है  कि  वो  बात  है  कि  भई  हमारी  सरकार ================================================================================\n",
            "\n",
            "10953/10953 [==============================] - 634s 58ms/step - loss: 2.8670 - accuracy: 0.4913 - val_loss: 3.1743 - val_accuracy: 0.4767\n",
            "Epoch 4/8\n",
            "10953/10953 [==============================] - ETA: 0s - loss: 2.6764 - accuracy: 0.5061INFO:tensorflow:Assets written to: ./checkpoints/LSTM_LYRICS-epoch004-words5812-sequence30-minfreq20-loss2.6764-accuracy0.5061-val_loss3.2003-val_acc0.4787/assets\n",
            "\n",
            "----- Generating text after Epoch: 3\n",
            "\n",
            "['आएंगे।', 'टूरिज्म', 'सेक्टर', 'का', 'विकास', 'पुदुचेरी', 'के', 'नौजवानों', 'को', 'नई', 'ताकत', 'देगा।', 'आज', 'यहां', 'आप', 'सभी', 'के', 'बीच', 'मैं', 'केंद्र', 'सरकार', 'की', 'एक', 'और', 'योजना', 'का', 'जिक्र', 'करना', 'चाहता', 'हूं']\n",
            "----- Diversity:0.3\n",
            "\n",
            "----- Generating with seed:\n",
            "\"आएंगे। टूरिज्म सेक्टर का विकास पुदुचेरी के नौजवानों को नई ताकत देगा। आज यहां आप सभी के बीच मैं केंद्र सरकार की एक और योजना का जिक्र करना चाहता हूं\"\n",
            "\n",
            "आएंगे। टूरिज्म सेक्टर का विकास पुदुचेरी के नौजवानों को नई ताकत देगा। आज यहां आप सभी के बीच मैं केंद्र सरकार की एक और योजना का जिक्र करना चाहता हूं\n",
            " और  इसलिए  मैं  आज  यहां  के  मुख्यमंत्री  के  नाते  पहले  भी  विशेष  आग्रह  करता  हूं  कि  आपने  मुझे  लगता  था  कि  आज  दुनिया  में  कोई  भी  नहीं  है  कि  नहीं  है?  ये  चुनाव  है  कि  नहीं  है  ...?  ये  कांग्रेस  की  धरती  पर  है  कि  नहीं  है  ...?  ये  चुनाव ----- Diversity:0.4\n",
            "\n",
            "----- Generating with seed:\n",
            "\"आएंगे। टूरिज्म सेक्टर का विकास पुदुचेरी के नौजवानों को नई ताकत देगा। आज यहां आप सभी के बीच मैं केंद्र सरकार की एक और योजना का जिक्र करना चाहता हूं\"\n",
            "\n",
            "आएंगे। टूरिज्म सेक्टर का विकास पुदुचेरी के नौजवानों को नई ताकत देगा। आज यहां आप सभी के बीच मैं केंद्र सरकार की एक और योजना का जिक्र करना चाहता हूं\n",
            " और  इस  देश  में  एक  बहुत  बड़ा  महत्वपूर्ण  संकल्प  है।  दुनिया  के  लिए  भी  समर्पित  है  और  मैं  आज  आज  भी  पहले  से  आया  हूं,  आप  सभी  का  विकास  करके  दिखाया  है।  आज  दुनिया  में  एक  बहुत  बड़ा  बदलाव  लाने  का  अवसर  मिला  है।  ये  बात  आज  दुनिया  में  एक ----- Diversity:0.5\n",
            "\n",
            "----- Generating with seed:\n",
            "\"आएंगे। टूरिज्म सेक्टर का विकास पुदुचेरी के नौजवानों को नई ताकत देगा। आज यहां आप सभी के बीच मैं केंद्र सरकार की एक और योजना का जिक्र करना चाहता हूं\"\n",
            "\n",
            "आएंगे। टूरिज्म सेक्टर का विकास पुदुचेरी के नौजवानों को नई ताकत देगा। आज यहां आप सभी के बीच मैं केंद्र सरकार की एक और योजना का जिक्र करना चाहता हूं\n",
            " जिसका  मैं  फिर  से  यहां  भी  आया  था।  आज  के  देश  के  लिए  कुछ  करना  चाहता  हूं।  मैं  आज  इस  बात  का  मानता  हूं  कि  आप  हमें  प्रेरणा  देता  हूं  कि  मैं  इस  बात  को  अनुभव  करने  के  लिए  मैं  फिर  एक  बार  आप  सभी  का  अभिनंदन  करता  हूं  कि ----- Diversity:0.6\n",
            "\n",
            "----- Generating with seed:\n",
            "\"आएंगे। टूरिज्म सेक्टर का विकास पुदुचेरी के नौजवानों को नई ताकत देगा। आज यहां आप सभी के बीच मैं केंद्र सरकार की एक और योजना का जिक्र करना चाहता हूं\"\n",
            "\n",
            "आएंगे। टूरिज्म सेक्टर का विकास पुदुचेरी के नौजवानों को नई ताकत देगा। आज यहां आप सभी के बीच मैं केंद्र सरकार की एक और योजना का जिक्र करना चाहता हूं\n",
            " और  इसलिए  अभी  तो  विकास  का  फैसला  किया  है।  भाइयों-बहनों।  आपने  मुझे  समर्थन  दिया  है।  इसी  तरह  देश  के  नौजवानों  को  लेकर  के  अनेक  नए  अवसर  के  लिए  मैं  एक  अपेक्षा  के  साथ  मेरे  साथ  एक  पूरी  ताकत  के  साथ  मैं  फिर  एक  बार  मैं  यहां  के  वर्तमान  को  आप ----- Diversity:0.7\n",
            "\n",
            "----- Generating with seed:\n",
            "\"आएंगे। टूरिज्म सेक्टर का विकास पुदुचेरी के नौजवानों को नई ताकत देगा। आज यहां आप सभी के बीच मैं केंद्र सरकार की एक और योजना का जिक्र करना चाहता हूं\"\n",
            "\n",
            "आएंगे। टूरिज्म सेक्टर का विकास पुदुचेरी के नौजवानों को नई ताकत देगा। आज यहां आप सभी के बीच मैं केंद्र सरकार की एक और योजना का जिक्र करना चाहता हूं\n",
            " और  इसके  लिए  मैं  आपका  बहुत-बहुत  आभारी  हूं।  आज  झारखंड  के  मेरे  जीवन  में  लोग  हर  गांव  के  लिए  भी  मैं  एक  बात  है  कि  आप  लोगों  की  राजनीति  करते  हैं।  मैं  जो  बात  कर  रहा  हूं  और  मैं  आज  इसके  काम  का  माहौल  दिलाता  हूं।  ऐसा  बात  है  कि ================================================================================\n",
            "\n",
            "10953/10953 [==============================] - 651s 59ms/step - loss: 2.6764 - accuracy: 0.5061 - val_loss: 3.2003 - val_accuracy: 0.4787\n",
            "Epoch 5/8\n",
            "10953/10953 [==============================] - ETA: 0s - loss: 2.5188 - accuracy: 0.5209INFO:tensorflow:Assets written to: ./checkpoints/LSTM_LYRICS-epoch005-words5812-sequence30-minfreq20-loss2.5188-accuracy0.5209-val_loss3.2456-val_acc0.4788/assets\n",
            "\n",
            "----- Generating text after Epoch: 4\n",
            "\n",
            "['हैं,', 'उनमें', 'अपने', 'अनुभव', 'का', 'फायदा', 'देश', 'को', 'देंगे,', 'लेकिन', 'उन्हें', 'इन', 'सबसे', 'दूर', 'रखा', 'गया।', 'यहां', 'तक', 'की', 'मंत्रिमंडल', 'विस्तार', 'के', 'समय,', 'किसी', 'मंत्रालय', 'की', 'अतिरिक्त', 'जिम्मेदारी', 'तक', 'बाबा']\n",
            "----- Diversity:0.3\n",
            "\n",
            "----- Generating with seed:\n",
            "\"हैं, उनमें अपने अनुभव का फायदा देश को देंगे, लेकिन उन्हें इन सबसे दूर रखा गया। यहां तक की मंत्रिमंडल विस्तार के समय, किसी मंत्रालय की अतिरिक्त जिम्मेदारी तक बाबा\"\n",
            "\n",
            "हैं, उनमें अपने अनुभव का फायदा देश को देंगे, लेकिन उन्हें इन सबसे दूर रखा गया। यहां तक की मंत्रिमंडल विस्तार के समय, किसी मंत्रालय की अतिरिक्त जिम्मेदारी तक बाबा\n",
            " साहेब  को  लेकर  के  देश  के  लिए  कुछ  करना  है।  भाइयो-बहनो,  मैं  यहां  से  कहता  हूं  कि  2022  तक  हम  एक  बार  आप  सभी  को  बहुत-बहुत  बधाई  के  पात्र  हैं।  हम  सभी  के  सामने  एक  बहुत  बड़ा  बदलाव  आया  है।  और  मैं  यहां  के  लोग  मेरे  पास  जो  संतोष  के ----- Diversity:0.4\n",
            "\n",
            "----- Generating with seed:\n",
            "\"हैं, उनमें अपने अनुभव का फायदा देश को देंगे, लेकिन उन्हें इन सबसे दूर रखा गया। यहां तक की मंत्रिमंडल विस्तार के समय, किसी मंत्रालय की अतिरिक्त जिम्मेदारी तक बाबा\"\n",
            "\n",
            "हैं, उनमें अपने अनुभव का फायदा देश को देंगे, लेकिन उन्हें इन सबसे दूर रखा गया। यहां तक की मंत्रिमंडल विस्तार के समय, किसी मंत्रालय की अतिरिक्त जिम्मेदारी तक बाबा\n",
            " साहेब  को  वो  काम  करने  का  प्रयास  किया  है।  आज  यहां  का  विश्वास  चल  रहा  है,  बीते  साढ़े  चार  वर्षों  में  हम  सभी  को  बधाई  देता  हूं।  साथियो,  इन  लोगों  की  राजनीति  में  एक  और  भी  एक  बहुत  महत्वपूर्ण  कार्य  मेरे  साथ  है,  ये  हमारे  देश  के  हर  कोने  में ----- Diversity:0.5\n",
            "\n",
            "----- Generating with seed:\n",
            "\"हैं, उनमें अपने अनुभव का फायदा देश को देंगे, लेकिन उन्हें इन सबसे दूर रखा गया। यहां तक की मंत्रिमंडल विस्तार के समय, किसी मंत्रालय की अतिरिक्त जिम्मेदारी तक बाबा\"\n",
            "\n",
            "हैं, उनमें अपने अनुभव का फायदा देश को देंगे, लेकिन उन्हें इन सबसे दूर रखा गया। यहां तक की मंत्रिमंडल विस्तार के समय, किसी मंत्रालय की अतिरिक्त जिम्मेदारी तक बाबा\n",
            " साहेब  के  लिए  भी  न  न  हो।  सरकार  ने  राज  किया  है।  और  यह  तो  बिहार  में  सरकार  के  हर  किसान  परिवार  के  पास  अपना  घर  बनाने  के  लिए  भी  काम  किया  है।  ये  कहते  हैं  कि  सरकार  के  बाद  पहली  बार  बैंक  में  पैसा  देने  का  काम  करने  में ----- Diversity:0.6\n",
            "\n",
            "----- Generating with seed:\n",
            "\"हैं, उनमें अपने अनुभव का फायदा देश को देंगे, लेकिन उन्हें इन सबसे दूर रखा गया। यहां तक की मंत्रिमंडल विस्तार के समय, किसी मंत्रालय की अतिरिक्त जिम्मेदारी तक बाबा\"\n",
            "\n",
            "हैं, उनमें अपने अनुभव का फायदा देश को देंगे, लेकिन उन्हें इन सबसे दूर रखा गया। यहां तक की मंत्रिमंडल विस्तार के समय, किसी मंत्रालय की अतिरिक्त जिम्मेदारी तक बाबा\n",
            " साहेब  को  पूरा  करने  के  लिए  काम  करना  है।  इस  बात  का  अभिनंदन  करता  हूं।  मेरे  भाईयों-बहनों  आपने  मुझे  अपना  एक  संतोष  था।  ये  सिर्फ  लिए  नहीं  है  और  मैं  यहां  से  आग्रह  करता  हूं।  मेरे  साथ  बहुत  महत्वपूर्ण  है।  लेकिन  दुनिया  का  सबसे  बड़ा  उत्‍साह  से  काम  करता  है। ----- Diversity:0.7\n",
            "\n",
            "----- Generating with seed:\n",
            "\"हैं, उनमें अपने अनुभव का फायदा देश को देंगे, लेकिन उन्हें इन सबसे दूर रखा गया। यहां तक की मंत्रिमंडल विस्तार के समय, किसी मंत्रालय की अतिरिक्त जिम्मेदारी तक बाबा\"\n",
            "\n",
            "हैं, उनमें अपने अनुभव का फायदा देश को देंगे, लेकिन उन्हें इन सबसे दूर रखा गया। यहां तक की मंत्रिमंडल विस्तार के समय, किसी मंत्रालय की अतिरिक्त जिम्मेदारी तक बाबा\n",
            " साहेब  को  किया  है।  सरकार  ने  लिया  है।  ये  सेवा  करने  का  सौभाग्य  मिला,  आपको  कहना  चाहता  हूं।  मैं  इसमें  से  उन  सभी  वरिष्ठ  नेता  के  रूप  में  आकर  के  मेरे  पास  ही  करोड़  में  एक  बड़े  कार्यक्रम  ऐसे  ही  लोग  हैं  जो  चौधरी  चरण  सिंह  बादल  साहब  ने  हमारे ================================================================================\n",
            "\n",
            "10953/10953 [==============================] - 657s 60ms/step - loss: 2.5188 - accuracy: 0.5209 - val_loss: 3.2456 - val_accuracy: 0.4788\n",
            "Epoch 6/8\n",
            "10953/10953 [==============================] - ETA: 0s - loss: 2.3905 - accuracy: 0.5345\n",
            "----- Generating text after Epoch: 5\n",
            "\n",
            "['75', 'साल', 'हों,', 'तब', 'हिन्\\u200dदुस्\\u200dतान', 'के', 'गरीब', 'से', 'गरीब', 'व्\\u200dयक्\\u200dति', 'को', 'भी', 'रहने', 'के', 'लिए', 'उसको', 'अपना', 'घर', 'मिल', 'जाए,', 'ये', 'काम', 'मैंने', 'सिर', 'पर', 'लिया', 'है।', 'मुझे', 'आपका', 'साथ']\n",
            "----- Diversity:0.3\n",
            "\n",
            "----- Generating with seed:\n",
            "\"75 साल हों, तब हिन्‍दुस्‍तान के गरीब से गरीब व्‍यक्‍ति को भी रहने के लिए उसको अपना घर मिल जाए, ये काम मैंने सिर पर लिया है। मुझे आपका साथ\"\n",
            "\n",
            "75 साल हों, तब हिन्‍दुस्‍तान के गरीब से गरीब व्‍यक्‍ति को भी रहने के लिए उसको अपना घर मिल जाए, ये काम मैंने सिर पर लिया है। मुझे आपका साथ\n",
            " मुझे  करना  है  कि  आपके  आशीर्वाद  चाहिए  कि  नहीं  होना  चाहिए  ...।  भाइयों  बहनों।  आप  मुझे  बताइए।  ये  चुनाव  मुझे  उत्तर  प्रदेश  में  मुझे  आशीर्वाद  देने  के  लिए  तैयार  हूं।  भाइयों-बहनों।  उत्तर  प्रदेश  में  जो  चुनाव  उत्तर  प्रदेश  में  चुनाव  के  चुनाव  के  नतीजे  आए  हैं,  14  दिन  में  11 ----- Diversity:0.4\n",
            "\n",
            "----- Generating with seed:\n",
            "\"75 साल हों, तब हिन्‍दुस्‍तान के गरीब से गरीब व्‍यक्‍ति को भी रहने के लिए उसको अपना घर मिल जाए, ये काम मैंने सिर पर लिया है। मुझे आपका साथ\"\n",
            "\n",
            "75 साल हों, तब हिन्‍दुस्‍तान के गरीब से गरीब व्‍यक्‍ति को भी रहने के लिए उसको अपना घर मिल जाए, ये काम मैंने सिर पर लिया है। मुझे आपका साथ\n",
            " मुझे  साथ  है  कि  हम  इस  बात  को  पूरा  करने  का  काम  करने  का  प्रयास  कर  रहे  हैं।  आप  मुझे  बताइए।  मेरे  प्यारे  भाइयों-बहनों।  मैं  उत्तर  प्रदेश  का  सांसद  हूं।  उत्तर  प्रदेश  को  उत्तर  प्रदेश  के  लिए  उत्तर  प्रदेश  को  बधाई  देता  हूं।  उन्होंने  कहा  था  कि  उत्तर  प्रदेश  में ----- Diversity:0.5\n",
            "\n",
            "----- Generating with seed:\n",
            "\"75 साल हों, तब हिन्‍दुस्‍तान के गरीब से गरीब व्‍यक्‍ति को भी रहने के लिए उसको अपना घर मिल जाए, ये काम मैंने सिर पर लिया है। मुझे आपका साथ\"\n",
            "\n",
            "75 साल हों, तब हिन्‍दुस्‍तान के गरीब से गरीब व्‍यक्‍ति को भी रहने के लिए उसको अपना घर मिल जाए, ये काम मैंने सिर पर लिया है। मुझे आपका साथ\n",
            " आज  हम  पानी  के  लिए  कुछ  कर  सकते  हैं।  2014  में  पहले  मुझे  बताया  गया  है  कि  नहीं  है  ...।  भाइयों  बहनों।  मैंने  मुझे  प्रधानमंत्री  जन-धन  एकाउंट  का  अवसर  दिया।  मैं  आज  नहीं  बताता  हूं  और  मैंने  मुझे  प्रधानमंत्री  फसल  बीमा  योजना  के  तहत  गैस  का  कनेक्शन  अगर  बिजली  का ----- Diversity:0.6\n",
            "\n",
            "----- Generating with seed:\n",
            "\"75 साल हों, तब हिन्‍दुस्‍तान के गरीब से गरीब व्‍यक्‍ति को भी रहने के लिए उसको अपना घर मिल जाए, ये काम मैंने सिर पर लिया है। मुझे आपका साथ\"\n",
            "\n",
            "75 साल हों, तब हिन्‍दुस्‍तान के गरीब से गरीब व्‍यक्‍ति को भी रहने के लिए उसको अपना घर मिल जाए, ये काम मैंने सिर पर लिया है। मुझे आपका साथ\n",
            " मिला  है  और  इसलिए  मैं  उन  लोगों  का  लक्ष्‍य  है  कि  सेना  के  जवान  हैं  जो  लोग  हैं,  जो  कुछ  लोग  तो  मुझे  बताइए  भारत  का  विकास  होने  वाला  है,  आपको  भरोसा  है  क्योंकि  प्‍यारे  भाइयो  और  बहनो,  इन  माताओं  बहनों  का  कोई  साथ  नहीं  होता  है  क्या?  आपके  लिए ----- Diversity:0.7\n",
            "\n",
            "----- Generating with seed:\n",
            "\"75 साल हों, तब हिन्‍दुस्‍तान के गरीब से गरीब व्‍यक्‍ति को भी रहने के लिए उसको अपना घर मिल जाए, ये काम मैंने सिर पर लिया है। मुझे आपका साथ\"\n",
            "\n",
            "75 साल हों, तब हिन्‍दुस्‍तान के गरीब से गरीब व्‍यक्‍ति को भी रहने के लिए उसको अपना घर मिल जाए, ये काम मैंने सिर पर लिया है। मुझे आपका साथ\n",
            " मुझे  लगता  है  कि  जो  बीमारी  और  गरीब  अपने  जीवन  में  एक  ऐसा  काले  और  कम  बिजली  का  खंभा  भी  नहीं  है।  तो  मुझे  ये  पहले  काम  करके  रखा  है।  आप  मुझे  बताइए,  किसान  ये  जिंदगी  जाता  है  कि  किसान  को  मिले,  अगर  पैसे  क्यों  ना  करो,  लाए  हैं।  उनको ================================================================================\n",
            "\n",
            "10953/10953 [==============================] - 641s 59ms/step - loss: 2.3905 - accuracy: 0.5345 - val_loss: 3.3010 - val_accuracy: 0.4773\n",
            "Epoch 7/8\n",
            "10953/10953 [==============================] - ETA: 0s - loss: 2.2842 - accuracy: 0.5452\n",
            "----- Generating text after Epoch: 6\n",
            "\n",
            "['Presidency,', 'India', 'would', 'steer', 'in', 'the', 'following', 'areas:', 'India', 'is', 'a', 'part', 'of', 'the', 'Central', 'Asian', 'Flyway', 'for', 'migratory', 'birds.', 'With', 'a', 'view', 'to', 'conserve', 'the', 'birds', 'along', 'the', 'Central']\n",
            "----- Diversity:0.3\n",
            "\n",
            "----- Generating with seed:\n",
            "\"Presidency, India would steer in the following areas: India is a part of the Central Asian Flyway for migratory birds. With a view to conserve the birds along the Central\"\n",
            "\n",
            "Presidency, India would steer in the following areas: India is a part of the Central Asian Flyway for migratory birds. With a view to conserve the birds along the Central\n",
            " Asian  Flyway  and  their  habitats,  India  has  prepared  a  ‘National  Action  Plan  for  conservation  of  Migratory  Birds  along  the  Central  Asian  Flyway’.  India  would  be  happy  to  facilitate  preparation  of  Action  Plans  for "
          ],
          "name": "stdout"
        },
        {
          "output_type": "stream",
          "text": [
            "/usr/local/lib/python3.6/dist-packages/ipykernel_launcher.py:4: RuntimeWarning: divide by zero encountered in log\n",
            "  after removing the cwd from sys.path.\n"
          ],
          "name": "stderr"
        },
        {
          "output_type": "stream",
          "text": [
            " other  countries  in  this  regard.  We  are  keen  to  take  the  conservation  of  migratory  birds  to  a ----- Diversity:0.4\n",
            "\n",
            "----- Generating with seed:\n",
            "\"Presidency, India would steer in the following areas: India is a part of the Central Asian Flyway for migratory birds. With a view to conserve the birds along the Central\"\n",
            "\n",
            "Presidency, India would steer in the following areas: India is a part of the Central Asian Flyway for migratory birds. With a view to conserve the birds along the Central\n",
            " Asian  Flyway  and  their  habitats,  India  has  prepared  a  ‘National  Action  Plan  for  conservation  of  Migratory  Birds  along  the  Central  Asian  Flyway’.  India  would  be  happy  to  facilitate  preparation  of  Action  Plans  for  other  countries  in  this  regard.  We  are  keen  to  take  the  conservation  of  migratory  birds  to  a ----- Diversity:0.5\n",
            "\n",
            "----- Generating with seed:\n",
            "\"Presidency, India would steer in the following areas: India is a part of the Central Asian Flyway for migratory birds. With a view to conserve the birds along the Central\"\n",
            "\n",
            "Presidency, India would steer in the following areas: India is a part of the Central Asian Flyway for migratory birds. With a view to conserve the birds along the Central\n",
            " Asian  Flyway  and  their  habitats,  India  has  prepared  a  ‘National  Action  Plan  for  conservation  of  Migratory  Birds  along  the  Central  Asian  Flyway’.  India  would  be  happy  to  facilitate  preparation  of  Action  Plans  for  other  countries  in  this  regard.  We  are  keen  to  take  the  conservation  of  migratory  birds  to  a ----- Diversity:0.6\n",
            "\n",
            "----- Generating with seed:\n",
            "\"Presidency, India would steer in the following areas: India is a part of the Central Asian Flyway for migratory birds. With a view to conserve the birds along the Central\"\n",
            "\n",
            "Presidency, India would steer in the following areas: India is a part of the Central Asian Flyway for migratory birds. With a view to conserve the birds along the Central\n",
            " Asian  Flyway  and  their  habitats,  India  has  prepared  a  ‘National  Action  Plan  for  conservation  of  Migratory  Birds  along  the  Central  Asian  Flyway’.  India  would  be  happy  to  facilitate  preparation  of  Action  Plans  for  other  countries  in  this  regard.  We  are  keen  to  take  the  conservation  of  migratory  birds  to  a ----- Diversity:0.7\n",
            "\n",
            "----- Generating with seed:\n",
            "\"Presidency, India would steer in the following areas: India is a part of the Central Asian Flyway for migratory birds. With a view to conserve the birds along the Central\"\n",
            "\n",
            "Presidency, India would steer in the following areas: India is a part of the Central Asian Flyway for migratory birds. With a view to conserve the birds along the Central\n",
            " Asian  Flyway  and  their  habitats,  India  has  prepared  a  ‘National  Action  Plan  for  conservation  of  Migratory  Birds  along  the  Central  Asian  Flyway’.  India  would  be  happy  to  facilitate  preparation  of  Action  Plans  for  other  countries  in  this  regard.  We  are  keen  to  take  the  conservation  of  migratory  birds  to  a ================================================================================\n",
            "\n",
            "10953/10953 [==============================] - 637s 58ms/step - loss: 2.2842 - accuracy: 0.5452 - val_loss: 3.3387 - val_accuracy: 0.4747\n",
            "Epoch 8/8\n",
            "10953/10953 [==============================] - ETA: 0s - loss: 2.2022 - accuracy: 0.5552\n",
            "----- Generating text after Epoch: 7\n",
            "\n",
            "['रोल', 'रहा', 'है।', 'जब', 'देश', 'में', 'माताएं-बहनें', 'पंचायतों', 'और', 'शहरों', 'की', 'संस्\\u200dथाओं', 'के', 'चुनाव', 'तक', 'में', 'हिस्\\u200dसा', 'नहीं', 'ले', 'सकती', 'थी,', 'तब', 'सरदार', 'साहब', 'ने', 'उस', 'अन्\\u200dयाय', 'के', 'खिलाफ', 'आवाज']\n",
            "----- Diversity:0.3\n",
            "\n",
            "----- Generating with seed:\n",
            "\"रोल रहा है। जब देश में माताएं-बहनें पंचायतों और शहरों की संस्‍थाओं के चुनाव तक में हिस्‍सा नहीं ले सकती थी, तब सरदार साहब ने उस अन्‍याय के खिलाफ आवाज\"\n",
            "\n",
            "रोल रहा है। जब देश में माताएं-बहनें पंचायतों और शहरों की संस्‍थाओं के चुनाव तक में हिस्‍सा नहीं ले सकती थी, तब सरदार साहब ने उस अन्‍याय के खिलाफ आवाज\n",
            " उठाई  है,  ये  भी  है  कि  आज  हम  देश  के  लिए  हम  कर  रहे  हैं।  हम  तो  अभी  से  ज्यादा  लोग  हैं  जो  देश  के  लिए  कुछ  कर  सकते  हैं।  आजादी  के  75  साल  होंगे।  और  मैं  आज  जब  मैं  एक  दिन  आया  हूं।  मैं  आपको  बधाई  देता  हूं।  मैं ----- Diversity:0.4\n",
            "\n",
            "----- Generating with seed:\n",
            "\"रोल रहा है। जब देश में माताएं-बहनें पंचायतों और शहरों की संस्‍थाओं के चुनाव तक में हिस्‍सा नहीं ले सकती थी, तब सरदार साहब ने उस अन्‍याय के खिलाफ आवाज\"\n",
            "\n",
            "रोल रहा है। जब देश में माताएं-बहनें पंचायतों और शहरों की संस्‍थाओं के चुनाव तक में हिस्‍सा नहीं ले सकती थी, तब सरदार साहब ने उस अन्‍याय के खिलाफ आवाज\n",
            " उठाई  है।  ये  चुनाव  पूरे  देश  में  चर्चा  होने  के  लिए  हम  बहुत  बड़ा  अवसर  नहीं  है।  मैं  मानता  हूं  कि  हम  सरदार  साहब  के  लिए  हम  अर्थ  में  आनंद  होता  है,  ये  भी  संभव  है।  हम  अपने  आप  अपने  आप  को  बहुत  बड़ी  बात  करनी  चाहिए।  और  हम  सब ----- Diversity:0.5\n",
            "\n",
            "----- Generating with seed:\n",
            "\"रोल रहा है। जब देश में माताएं-बहनें पंचायतों और शहरों की संस्‍थाओं के चुनाव तक में हिस्‍सा नहीं ले सकती थी, तब सरदार साहब ने उस अन्‍याय के खिलाफ आवाज\"\n",
            "\n",
            "रोल रहा है। जब देश में माताएं-बहनें पंचायतों और शहरों की संस्‍थाओं के चुनाव तक में हिस्‍सा नहीं ले सकती थी, तब सरदार साहब ने उस अन्‍याय के खिलाफ आवाज\n",
            " उठाई  है।  लेकिन  मुझे  एक  ताकत  हूं।  इन  सारे  विचारों  को  लेकर  के  हम  उत्तम  विश्‍व  में  अनुभव  कर  सकते  हैं।  एक  बार  हम  इतने  कम  समय  में  यानी  मेरी  चीजें  ने  एक  ही  कारण  बनने  का  एक  बड़ा  सौभाग्य  हुआ  है।  आज  जो  हमारे  देश  में  युद्ध  को  ले ----- Diversity:0.6\n",
            "\n",
            "----- Generating with seed:\n",
            "\"रोल रहा है। जब देश में माताएं-बहनें पंचायतों और शहरों की संस्‍थाओं के चुनाव तक में हिस्‍सा नहीं ले सकती थी, तब सरदार साहब ने उस अन्‍याय के खिलाफ आवाज\"\n",
            "\n",
            "रोल रहा है। जब देश में माताएं-बहनें पंचायतों और शहरों की संस्‍थाओं के चुनाव तक में हिस्‍सा नहीं ले सकती थी, तब सरदार साहब ने उस अन्‍याय के खिलाफ आवाज\n",
            " उठाई  है।  मैं  आज  भी  आया  हूं  तो  देश  के  लिए  हम  इस  बात  पर  खड़ा  कर  पाया।  हम  कभी  भी  हमारे  पास  नहीं  है,  लेकिन  मैं  आपको  विश्वास  दिलाता  हूं  कि  देश  में  भी  कुछ  चीजें  ही  नहीं,  लेकिन  उसी  बढ़  सकते  हैं,  आप  सब  लोग  अपने  अनुभव  का ----- Diversity:0.7\n",
            "\n",
            "----- Generating with seed:\n",
            "\"रोल रहा है। जब देश में माताएं-बहनें पंचायतों और शहरों की संस्‍थाओं के चुनाव तक में हिस्‍सा नहीं ले सकती थी, तब सरदार साहब ने उस अन्‍याय के खिलाफ आवाज\"\n",
            "\n",
            "रोल रहा है। जब देश में माताएं-बहनें पंचायतों और शहरों की संस्‍थाओं के चुनाव तक में हिस्‍सा नहीं ले सकती थी, तब सरदार साहब ने उस अन्‍याय के खिलाफ आवाज\n",
            " ही  भ्रम  है,  पेड़  पर  एक  निर्णय  किया  गया  है।  मैं  वो  धरती  से  कहता  हूं  कि  इस  योजना  से  आज  हमारे  नौजवानों  की  शक्ति  है।  भाइयों  बहनों  हमने  साल  पहले  से  एक  और  मेरा  एक  बड़ा  सपना  होता  है।  आज  दुनिया  में  हमारी  युवा  सोच  है  और  आज  जब ================================================================================\n",
            "\n",
            "10953/10953 [==============================] - 637s 58ms/step - loss: 2.2022 - accuracy: 0.5552 - val_loss: 3.3819 - val_accuracy: 0.4729\n"
          ],
          "name": "stdout"
        }
      ]
    },
    {
      "cell_type": "code",
      "metadata": {
        "id": "8cOI7r3cUyjV",
        "colab_type": "code",
        "colab": {}
      },
      "source": [
        "model.load_weights(\"/content/drive/My Drive/model.h5\")"
      ],
      "execution_count": null,
      "outputs": []
    },
    {
      "cell_type": "code",
      "metadata": {
        "id": "7M9Y75F0VRzV",
        "colab_type": "code",
        "colab": {}
      },
      "source": [
        "def run(k):\n",
        "    seed =k\n",
        "    print(seed)\n",
        "   # seed = sent.split(' ')\n",
        "\n",
        "    for diversity in [0.3, 0.4, 0.5, 0.6, 0.7]:\n",
        "        sentence = seed\n",
        "        print('----- Diversity:' + str(diversity) + '\\n')\n",
        "        print('----- Generating with seed:\\n\"' + ' '.join(sentence) + '\"\\n')\n",
        "        print(' '.join(sentence))\n",
        "\n",
        "        for i in range(50):\n",
        "            x_pred = np.zeros((1, SEQUENCE_LEN))\n",
        "            for t, word in enumerate(sentence):\n",
        "                x_pred[0, t] = word_indices[word]\n",
        "\n",
        "            preds = model.predict(x_pred, verbose=0)[0]\n",
        "            next_index = sample(preds, diversity)\n",
        "            next_word = indices_word[next_index]\n",
        "\n",
        "            sentence = sentence[1:]\n",
        "            sentence.append(next_word)\n",
        "\n",
        "            print(\" \"+next_word,end=' ')\n",
        "    print('='*80 + '\\n')"
      ],
      "execution_count": null,
      "outputs": []
    },
    {
      "cell_type": "code",
      "metadata": {
        "id": "58ry8Yz7b1gx",
        "colab_type": "code",
        "colab": {
          "base_uri": "https://localhost:8080/",
          "height": 618
        },
        "outputId": "692e8043-f342-4e47-b127-9d20f556f8ff"
      },
      "source": [
        "run(['जब', 'देश', 'में', 'माताएं-बहनें', 'पंचायतों', 'और', 'शहरों', 'की'])"
      ],
      "execution_count": null,
      "outputs": [
        {
          "output_type": "stream",
          "text": [
            "['जब', 'देश', 'में', 'माताएं-बहनें', 'पंचायतों', 'और', 'शहरों', 'की']\n",
            "----- Diversity:0.3\n",
            "\n",
            "----- Generating with seed:\n",
            "\"जब देश में माताएं-बहनें पंचायतों और शहरों की\"\n",
            "\n",
            "जब देश में माताएं-बहनें पंचायतों और शहरों की\n",
            " जयंती  जाए।  इसी  जाए।  लेकिन  गए।  क्यों  पड़े  इसी  ये  ये  ये  जाए।  यानी  जाए।  ये  हों।  अगस्त  ये  ये  ये  रही  ये  जाए।  रही  होगा।  ये  होगा।  भाइयो-बहनो,  नहीं  ये  जाए।  जाए।  जाए।  जाए।  जाए।  भाइयो-बहनो,  जाए।  ये  जाए।  जाए।  जाए।  जाए।  ये  अगस्त  ये  जाए।  ये  जाए।  जाए। ----- Diversity:0.4\n",
            "\n",
            "----- Generating with seed:\n",
            "\"जब देश में माताएं-बहनें पंचायतों और शहरों की\"\n",
            "\n",
            "जब देश में माताएं-बहनें पंचायतों और शहरों की\n",
            " जाए।  जाए।  ये  जाए।  लेकिन  गए।  जाए।  जाए।  जाए।  ये  जाए।  जाए।  अरे  नहीं  ये  ये  जाए।  जाए।  जाए।  ये  जाए।  जाए।  अगस्त  ये  ये  जाए।  ये  जयंती  रही  नहीं  जाए।  नहीं  ये  ये  जयंती  लेकिन  जाए।  हो  भाइयो-बहनो,  पड़े  जाए।  ये  नहीं  जाए।  जाए।  नहीं  जाए,  हां  जाए।  ये ----- Diversity:0.5\n",
            "\n",
            "----- Generating with seed:\n",
            "\"जब देश में माताएं-बहनें पंचायतों और शहरों की\"\n",
            "\n",
            "जब देश में माताएं-बहनें पंचायतों और शहरों की\n",
            " जयंती  जाए।  जाए।  पूरा  इसी  जाए।  जाए।  इसी  इसी  जाए।  जाए।  जाए।  ये  जाए।  जाए।  हों।  हों।  ये  जाए।  जाए।  ये  जाए।  जाए।  जाए।  जाए।  हो  ये  बाकी  जाए।  ये  लेकिन  जाए।  इसी  नहीं  जाए।  इसी  ये  रही  नहीं  जाए।  ये  हों।  ये  रही  हो  लेकिन  कोई  बाकी  जाए।  नहीं ----- Diversity:0.6\n",
            "\n",
            "----- Generating with seed:\n",
            "\"जब देश में माताएं-बहनें पंचायतों और शहरों की\"\n",
            "\n",
            "जब देश में माताएं-बहनें पंचायतों और शहरों की\n",
            " लेती  बाजी  जाए।  नहीं  क्यों  ये  जाए।  ये  ये  जयंती  जाए।  जिन्होंने  पड़े  नहीं  जाए।  हो  करना  जाए।  गया  जाए।  कहीं  ये  ये  बढ़ी  जाए।  ये  पड़े  जाए।  जाए।  कोई  ये  पड़े  हो  होगा।  हो  ये  होगा।  हां  रही  हो  ये  रही  जाए  ये  ये  इसी  रही  नहीं  लेकिन  इसी ----- Diversity:0.7\n",
            "\n",
            "----- Generating with seed:\n",
            "\"जब देश में माताएं-बहनें पंचायतों और शहरों की\"\n",
            "\n",
            "जब देश में माताएं-बहनें पंचायतों और शहरों की\n",
            " लेती  भरने  रही  बढ़ाना  पड़े  जाए।  हो  खरीदी  हो  भाइयो-बहनो,  जाए।  भाइयो-बहनो,  पड़े  कैसे  जा  आपके  पड़ेगा।  ये  ये  रही  रही  जाए।  ये  जाए।  इसी  ये  रही  जरूरी  जाए।  जरा  जाए  ये  हों।  भाइयो-बहनो,  पड़े  हों,  ये  पड़े  हां  रही  हो  ये  बहुत  मंत्रालय  मंत्रालय  जाए।  हो  ये  आई  नहीं ================================================================================\n",
            "\n"
          ],
          "name": "stdout"
        }
      ]
    },
    {
      "cell_type": "code",
      "metadata": {
        "id": "iQlGm07fcFyJ",
        "colab_type": "code",
        "colab": {}
      },
      "source": [
        ""
      ],
      "execution_count": null,
      "outputs": []
    }
  ]
}